{
 "cells": [
  {
   "cell_type": "code",
   "execution_count": 1,
   "metadata": {},
   "outputs": [],
   "source": [
    "from ultralytics import YOLO"
   ]
  },
  {
   "cell_type": "code",
   "execution_count": 9,
   "metadata": {},
   "outputs": [
    {
     "name": "stdout",
     "output_type": "stream",
     "text": [
      "video 1/1 (frame 1/750) C:\\Users\\Martin\\Documents\\COURS\\Python\\MachineLearning\\IA\\YOLO\\input_videos\\08fd33_4.mp4: 384x640 1 ball, 1 goalkeeper, 18 players, 3 referees, 1533.1ms\n"
     ]
    }
   ],
   "source": [
    "model = YOLO('yolov8n.pt')\n",
    "results = model('input_videos/08fd33_4.mp4', save=True)"
   ]
  },
  {
   "cell_type": "code",
   "execution_count": 10,
   "metadata": {},
   "outputs": [
    {
     "name": "stdout",
     "output_type": "stream",
     "text": [
      "video 1/1 (frame 750/750) C:\\Users\\Martin\\Documents\\COURS\\Python\\MachineLearning\\IA\\YOLO\\input_videos\\08fd33_4.mp4: 384x640 1 goalkeeper, 22 players, 2 referees, 1510.1ms\n"
     ]
    }
   ],
   "source": [
    "print('Last frame processed.')"
   ]
  }
 ]
}
